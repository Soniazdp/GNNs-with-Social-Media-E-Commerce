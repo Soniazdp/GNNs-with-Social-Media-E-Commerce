{
  "cells": [
    {
      "cell_type": "code",
      "source": [
        "!pip install dgl"
      ],
      "metadata": {
        "colab": {
          "base_uri": "https://localhost:8080/"
        },
        "id": "FnMbu_Mig5oK",
        "outputId": "69cdb201-9fb3-4a5b-853d-c0fa5206ee7e"
      },
      "execution_count": null,
      "outputs": [
        {
          "output_type": "stream",
          "name": "stdout",
          "text": [
            "Looking in indexes: https://pypi.org/simple, https://us-python.pkg.dev/colab-wheels/public/simple/\n",
            "Collecting dgl\n",
            "  Downloading dgl-1.0.1-cp39-cp39-manylinux1_x86_64.whl (5.4 MB)\n",
            "\u001b[2K     \u001b[90m━━━━━━━━━━━━━━━━━━━━━━━━━━━━━━━━━━━━━━━━\u001b[0m \u001b[32m5.4/5.4 MB\u001b[0m \u001b[31m61.5 MB/s\u001b[0m eta \u001b[36m0:00:00\u001b[0m\n",
            "\u001b[?25hRequirement already satisfied: psutil>=5.8.0 in /usr/local/lib/python3.9/dist-packages (from dgl) (5.9.4)\n",
            "Requirement already satisfied: tqdm in /usr/local/lib/python3.9/dist-packages (from dgl) (4.65.0)\n",
            "Requirement already satisfied: scipy>=1.1.0 in /usr/local/lib/python3.9/dist-packages (from dgl) (1.10.1)\n",
            "Requirement already satisfied: requests>=2.19.0 in /usr/local/lib/python3.9/dist-packages (from dgl) (2.27.1)\n",
            "Requirement already satisfied: networkx>=2.1 in /usr/local/lib/python3.9/dist-packages (from dgl) (3.1)\n",
            "Requirement already satisfied: numpy>=1.14.0 in /usr/local/lib/python3.9/dist-packages (from dgl) (1.22.4)\n",
            "Requirement already satisfied: certifi>=2017.4.17 in /usr/local/lib/python3.9/dist-packages (from requests>=2.19.0->dgl) (2022.12.7)\n",
            "Requirement already satisfied: charset-normalizer~=2.0.0 in /usr/local/lib/python3.9/dist-packages (from requests>=2.19.0->dgl) (2.0.12)\n",
            "Requirement already satisfied: urllib3<1.27,>=1.21.1 in /usr/local/lib/python3.9/dist-packages (from requests>=2.19.0->dgl) (1.26.15)\n",
            "Requirement already satisfied: idna<4,>=2.5 in /usr/local/lib/python3.9/dist-packages (from requests>=2.19.0->dgl) (3.4)\n",
            "Installing collected packages: dgl\n",
            "Successfully installed dgl-1.0.1\n"
          ]
        }
      ]
    },
    {
      "cell_type": "markdown",
      "metadata": {
        "id": "rzQDqkztgK08"
      },
      "source": [
        "## Data Preparation\n",
        "\n",
        "Import the required libraries, and load edge list data into a graph object."
      ]
    },
    {
      "cell_type": "code",
      "execution_count": null,
      "metadata": {
        "id": "1iOoNbVrgK1D",
        "colab": {
          "base_uri": "https://localhost:8080/"
        },
        "outputId": "cab36865-c2ac-428a-8fd2-a87d97e121d2"
      },
      "outputs": [
        {
          "output_type": "stream",
          "name": "stderr",
          "text": [
            "DGL backend not selected or invalid.  Assuming PyTorch for now.\n"
          ]
        },
        {
          "output_type": "stream",
          "name": "stdout",
          "text": [
            "Setting the default backend to \"pytorch\". You can change it in the ~/.dgl/config.json file or export the DGLBACKEND environment variable.  Valid options are: pytorch, mxnet, tensorflow (all lowercase)\n"
          ]
        }
      ],
      "source": [
        "import torch\n",
        "import torch.nn as nn\n",
        "\n",
        "import numpy as np\n",
        "import scipy.sparse as sp\n",
        "import torch.nn.functional as F\n",
        "\n",
        "import dgl\n",
        "from dgl.nn import SAGEConv\n",
        "import dgl.function as fn\n",
        "from sklearn.metrics import roc_auc_score\n",
        "import itertools"
      ]
    },
    {
      "cell_type": "code",
      "source": [
        "# import necessary libraries\n",
        "import spacy\n",
        "import en_core_web_sm\n",
        "import gensim.downloader as api\n",
        "\n",
        "# load pre-trained models\n",
        "nlp = en_core_web_sm.load()\n",
        "model_2 = api.load('glove-twitter-25')\n",
        "\n",
        "# define hashtags\n",
        "# hashtags = ['#applepieisdelicious', '#harrypotterandthephilosophersstone', '#thisisareallylonghashtagwithlotsofwords']\n",
        "\n",
        "\n",
        "\n",
        "# apply function to each hashtag\n",
        "# for hashtag in hashtags:\n",
        "#     avg_vector = segment_hashtag(hashtag)\n",
        "#     print(f\"Hashtag: {hashtag}\\nAverage vector: {avg_vector}\\n\")\n"
      ],
      "metadata": {
        "colab": {
          "base_uri": "https://localhost:8080/"
        },
        "id": "BMRIjIRCmqm-",
        "outputId": "e63535c1-900b-4b0a-e519-ffa596cf3ad2"
      },
      "execution_count": null,
      "outputs": [
        {
          "output_type": "stream",
          "name": "stdout",
          "text": [
            "[==================================================] 100.0% 104.8/104.8MB downloaded\n"
          ]
        }
      ]
    },
    {
      "cell_type": "code",
      "source": [
        "# define function to segment hashtags\n",
        "def segment_hashtag(hashtag):\n",
        "    # define a dictionary of words\n",
        "    words = list(model_2.key_to_index.keys())\n",
        "\n",
        "    # split hashtag into words using Maximum Matching algorithm\n",
        "    segments = []\n",
        "    while hashtag:\n",
        "        for i in range(len(hashtag), 0, -1):\n",
        "            if hashtag[:i] in words:\n",
        "                segments.append(hashtag[:i])\n",
        "                hashtag = hashtag[i:]\n",
        "                break\n",
        "        else:\n",
        "            segments.append(hashtag[0])\n",
        "            hashtag = hashtag[1:]\n",
        "\n",
        "    # get vector for each word\n",
        "    vectors = [model_2.get_vector(word) if word in model_2.key_to_index else [0]*25 for word in segments]  # use a zero vector if word is not in model\n",
        "\n",
        "    # compute average of word vectors\n",
        "    avg_vector = [sum(vec[i] for vec in vectors) / len(vectors) for i in range(len(vectors[0]))]\n",
        "    \n",
        "    return avg_vector"
      ],
      "metadata": {
        "id": "BeqrBICVngpW"
      },
      "execution_count": null,
      "outputs": []
    },
    {
      "cell_type": "code",
      "source": [
        "with open('/content/edge-all.csv', 'r') as f:\n",
        "    edges = f.readlines()\n",
        "\n",
        "edges = [edge.strip().split(',') for edge in edges]\n",
        "categories = edges[0] #['Source', 'Source_name', 'Target', 'Target_name', 'Type', 'Id', 'Label', 'Weight']\n",
        "\n",
        "# identify source and target nodes and make them tensors\n",
        "u = torch.tensor([int(edge[0]) for edge in edges[1:]])\n",
        "v = torch.tensor([int(edge[2]) for edge in edges[1:]])\n",
        "u_name = [edge[1] for edge in edges[1:]]\n",
        "v_name = [edge[3] for edge in edges[1:]]\n",
        "g = dgl.graph((u, v))\n",
        "#g = dgl.to_bidirected(g) # make the graph bidirectional\n"
      ],
      "metadata": {
        "id": "clR3K_ioUsch"
      },
      "execution_count": null,
      "outputs": []
    },
    {
      "cell_type": "code",
      "source": [
        "# load features\n",
        "with open('/content/node-all.csv', 'r', encoding=\"utf-8\") as f:\n",
        "    name = f.readlines()\n",
        "name = [c.strip().split(',') for c in name][1:]\n",
        "name = {c[1][1:]: c[1] for c in name}\n",
        "name_to_vec = {}\n",
        "for key in name:\n",
        "  name[key] = segment_hashtag(name[key])\n",
        "  print(\"find\", key)"
      ],
      "metadata": {
        "id": "OgjhUOrMihdE"
      },
      "execution_count": null,
      "outputs": []
    },
    {
      "cell_type": "code",
      "source": [
        "# create a tensor of count values based on the given node IDs\n",
        "name_vec = []\n",
        "for i in range(len(u)):\n",
        "    name_vec.append((int(u[i]), u_name[i], tuple(name[u_name[i][1:]])))\n",
        "for i in range(len(v)):\n",
        "    name_vec.append((int(v[i]), v_name[i], tuple(name[v_name[i][1:]])))\n",
        "name_vec = sorted(list(set(name_vec)))"
      ],
      "metadata": {
        "id": "klwMr72fdPlv"
      },
      "execution_count": null,
      "outputs": []
    },
    {
      "cell_type": "code",
      "source": [
        "node_names = [''] + [c[1] for c in name_vec]\n",
        "name_tensor = torch.tensor([list(c[2]) for c in name_vec])\n",
        "name_tensor = name_tensor.squeeze()\n",
        "# create null tensor of same shape\n",
        "null_tensor = torch.zeros_like(name_tensor[0]).unsqueeze(0)\n",
        "# concatenate null tensor with original tensor\n",
        "new_tensor = torch.cat([null_tensor, name_tensor], dim=0)\n",
        "name_tensor = new_tensor.unsqueeze(1)\n",
        "g.ndata['feat'] = new_tensor"
      ],
      "metadata": {
        "id": "db8OVqs5ewW3"
      },
      "execution_count": null,
      "outputs": []
    },
    {
      "cell_type": "code",
      "source": [
        "g"
      ],
      "metadata": {
        "colab": {
          "base_uri": "https://localhost:8080/"
        },
        "id": "Tq0DKU2JOFme",
        "outputId": "1dcd7b4c-cb20-46f7-967b-2377b0f95c9e"
      },
      "execution_count": null,
      "outputs": [
        {
          "output_type": "execute_result",
          "data": {
            "text/plain": [
              "Graph(num_nodes=150, num_edges=3024,\n",
              "      ndata_schemes={'feat': Scheme(shape=(25,), dtype=torch.float64)}\n",
              "      edata_schemes={})"
            ]
          },
          "metadata": {},
          "execution_count": 159
        }
      ]
    },
    {
      "cell_type": "markdown",
      "metadata": {
        "id": "lckT2lzYgK1F"
      },
      "source": [
        "## Prepare training, validation and test data\n",
        "We split the dataset into the three sets with the ratio of 0.70, 0.15 and 0.15 with random sampling."
      ]
    },
    {
      "cell_type": "code",
      "execution_count": null,
      "metadata": {
        "id": "LpzZK5f4gK1F"
      },
      "outputs": [],
      "source": [
        "eids = np.arange(g.number_of_edges())\n",
        "eids = np.random.permutation(eids)\n",
        "\n",
        "# split into train, val, test\n",
        "test_size = val_size = int(len(eids) * 0.15)\n",
        "train_size = len(eids) - val_size - test_size\n",
        "\n",
        "test_pos_u, test_pos_v = u[eids[:test_size]], v[eids[:test_size]]\n",
        "val_pos_u, val_pos_v = u[eids[test_size:test_size+val_size]], v[eids[test_size:test_size+val_size]]\n",
        "train_pos_u, train_pos_v = u[eids[test_size+val_size:]], v[eids[test_size+val_size:]]\n",
        "\n",
        "# find negative edges by randomly sampling from all possible edges.\n",
        "# change shape to num_nodes of graph\n",
        "adj = sp.coo_matrix((np.ones(len(u)), (u.numpy(), v.numpy())), shape=(150, 150)) #(150, 150) for < 80\n",
        "adj_neg = 1 - adj.todense() - np.eye(g.number_of_nodes())\n",
        "neg_u, neg_v = np.where(adj_neg != 0)\n",
        "\n",
        "neg_eids = np.random.choice(len(neg_u), len(eids))\n",
        "test_neg_u, test_neg_v = neg_u[neg_eids[:test_size]], neg_v[neg_eids[:test_size]]\n",
        "val_neg_u, val_neg_v = neg_u[neg_eids[test_size:test_size+val_size]], neg_v[neg_eids[test_size:test_size+val_size]]\n",
        "train_neg_u, train_neg_v = neg_u[neg_eids[test_size+val_size:]], neg_v[neg_eids[test_size+val_size:]]"
      ]
    },
    {
      "cell_type": "markdown",
      "metadata": {
        "id": "bF9xJFgTgK1H"
      },
      "source": [
        "When training, we need to remove the edges in the test set from the original graph via `dgl.remove_edges`. "
      ]
    },
    {
      "cell_type": "code",
      "execution_count": null,
      "metadata": {
        "id": "7ccpjyGYgK1H"
      },
      "outputs": [],
      "source": [
        "train_g = dgl.remove_edges(g, eids[:test_size])"
      ]
    },
    {
      "cell_type": "markdown",
      "metadata": {
        "id": "qSR-s76IgK1H"
      },
      "source": [
        "## Define the model\n",
        "\n",
        "The model consists of two GraphSAGE layers, each computes new node representations by averaging neighbor information. DGL provides ``dgl.nn.SAGEConv`` that conveniently creates a GraphSAGE layer."
      ]
    },
    {
      "cell_type": "code",
      "execution_count": null,
      "metadata": {
        "id": "AcYj6bUwgK1H"
      },
      "outputs": [],
      "source": [
        "# build a two-layer GraphSAGE model\n",
        "class GraphSAGE(nn.Module):\n",
        "    def __init__(self, in_feats, h_feats):\n",
        "        super(GraphSAGE, self).__init__()\n",
        "        self.conv1 = SAGEConv(in_feats, h_feats, 'mean')\n",
        "        self.conv2 = SAGEConv(h_feats, h_feats, 'mean')\n",
        "    \n",
        "    def forward(self, g, in_feat):\n",
        "        h = self.conv1(g, in_feat)\n",
        "        h = F.sigmoid(h)\n",
        "        h = self.conv2(g, h)\n",
        "\n",
        "        return h"
      ]
    },
    {
      "cell_type": "markdown",
      "metadata": {
        "id": "Y0_IDZGggK1H"
      },
      "source": [
        "## Create positive and negative edges for training\n",
        "\n",
        "-  Treat the edges in the graph as *positive examples*.\n",
        "-  Sample a number of non-existent edges (i.e. node pairs with no edges\n",
        "   between them) as *negative* examples.\n",
        "-  Divide the positive examples and negative examples into a training, validation and test set."
      ]
    },
    {
      "cell_type": "code",
      "execution_count": null,
      "metadata": {
        "id": "t4s7zPjxgK1I"
      },
      "outputs": [],
      "source": [
        "# Note: num_nodes was g.number_of_nodes() in the original code\n",
        "train_pos_g = dgl.graph((train_pos_u, train_pos_v), num_nodes=g.number_of_nodes())\n",
        "train_neg_g = dgl.graph((train_neg_u, train_neg_v), num_nodes=g.number_of_nodes())\n",
        "\n",
        "test_pos_g = dgl.graph((test_pos_u, test_pos_v), num_nodes=g.number_of_nodes())\n",
        "test_neg_g = dgl.graph((test_neg_u, test_neg_v), num_nodes=g.number_of_nodes())"
      ]
    },
    {
      "cell_type": "code",
      "source": [
        "test_pos_g"
      ],
      "metadata": {
        "colab": {
          "base_uri": "https://localhost:8080/"
        },
        "id": "Nlw5Nif7qpLj",
        "outputId": "831826ef-8c97-49e5-bb44-926341d1e931"
      },
      "execution_count": null,
      "outputs": [
        {
          "output_type": "execute_result",
          "data": {
            "text/plain": [
              "Graph(num_nodes=150, num_edges=277,\n",
              "      ndata_schemes={}\n",
              "      edata_schemes={})"
            ]
          },
          "metadata": {},
          "execution_count": 14
        }
      ]
    },
    {
      "cell_type": "markdown",
      "metadata": {
        "id": "nMRUXpKZgK1I"
      },
      "source": [
        "The following code computes new edge features based on the incident nodes' features and the original edge features (if applicable) via `DGLGraph.apply_edges`.\n",
        "\n",
        "DGL provides a set of optimized builtin functions to compute new\n",
        "edge features based on the original node/edge features. For example,\n",
        "``dgl.function.u_dot_v`` computes a dot product of the incident nodes’\n",
        "representations for each edge."
      ]
    },
    {
      "cell_type": "code",
      "execution_count": null,
      "metadata": {
        "id": "DzZGOgEcgK1I"
      },
      "outputs": [],
      "source": [
        "class DotPredictor(nn.Module):\n",
        "    def forward(self, g, h):\n",
        "        with g.local_scope():\n",
        "            g.ndata['h'] = h\n",
        "            # Compute a new edge feature named 'score' by a dot-product between the\n",
        "            # source node feature 'h' and destination node feature 'h'.\n",
        "            g.apply_edges(fn.u_dot_v('h', 'h', 'score'))\n",
        "            # u_dot_v returns a 1-element vector for each edge so you need to squeeze it.\n",
        "            return g.edata['score'][:, 0]"
      ]
    },
    {
      "cell_type": "markdown",
      "metadata": {
        "id": "64wXFgNogK1I"
      },
      "source": [
        "## Training loop\n",
        "\n",
        "After defining the node representation and edge score computation, the training loop can thus be defined. The evaluation metric is the area under the ROC curve (AUC)."
      ]
    },
    {
      "cell_type": "code",
      "execution_count": null,
      "metadata": {
        "id": "jaoo9LE0gK1I"
      },
      "outputs": [],
      "source": [
        "model = GraphSAGE(train_g.ndata['feat'].shape[1], 16)\n",
        "# You can replace DotPredictor with MLPPredictor.\n",
        "#pred = MLPPredictor(16)\n",
        "pred = DotPredictor()\n",
        "\n",
        "def compute_loss(pos_score, neg_score):\n",
        "    scores = torch.cat([pos_score, neg_score])\n",
        "    labels = torch.cat([torch.ones(pos_score.shape[0]), torch.zeros(neg_score.shape[0])])\n",
        "    return F.binary_cross_entropy_with_logits(scores, labels)\n",
        "\n",
        "def compute_auc(pos_score, neg_score):\n",
        "    scores = torch.cat([pos_score, neg_score]).numpy()\n",
        "    labels = torch.cat(\n",
        "        [torch.ones(pos_score.shape[0]), torch.zeros(neg_score.shape[0])]).numpy()\n",
        "    return roc_auc_score(labels, scores)"
      ]
    },
    {
      "cell_type": "code",
      "execution_count": null,
      "metadata": {
        "id": "FPktsbp4gK1I",
        "colab": {
          "base_uri": "https://localhost:8080/"
        },
        "outputId": "7dd40e0b-c403-458a-85b3-cf880ae6c923"
      },
      "outputs": [
        {
          "output_type": "stream",
          "name": "stderr",
          "text": [
            "/usr/local/lib/python3.9/dist-packages/dgl/backend/pytorch/tensor.py:445: UserWarning: TypedStorage is deprecated. It will be removed in the future and UntypedStorage will be the only storage class. This should only matter to you if you are using storages directly.  To access UntypedStorage directly, use tensor.untyped_storage() instead of tensor.storage()\n",
            "  assert input.numel() == input.storage().size(), (\n"
          ]
        },
        {
          "output_type": "stream",
          "name": "stdout",
          "text": [
            "In epoch 0, loss: 12.159568786621094\n",
            "In epoch 5, loss: 1.2714320421218872\n",
            "In epoch 10, loss: 0.9298271536827087\n",
            "In epoch 15, loss: 0.8359984755516052\n",
            "In epoch 20, loss: 0.7466654181480408\n",
            "In epoch 25, loss: 0.7092294692993164\n"
          ]
        }
      ],
      "source": [
        "optimizer = torch.optim.Adam(itertools.chain(model.parameters(), pred.parameters()), lr=0.01)\n",
        "all_logits = []\n",
        "l = []\n",
        "epoch = 30\n",
        "for e in range(epoch):\n",
        "    # forward\n",
        "    h = model(train_g, train_g.ndata['feat'].float())\n",
        "    pos_score = pred(train_pos_g, h)\n",
        "    neg_score = pred(train_neg_g, h)\n",
        "    loss = compute_loss(pos_score, neg_score)\n",
        "    l.append(loss.item())\n",
        "    \n",
        "    # backward\n",
        "    optimizer.zero_grad()\n",
        "    loss.backward()\n",
        "    optimizer.step()\n",
        "    \n",
        "    if e % 5 == 0:\n",
        "        print('In epoch {}, loss: {}'.format(e, loss))"
      ]
    },
    {
      "cell_type": "code",
      "source": [
        "fig, ax = plt.subplots()\n",
        "\n",
        "ax.plot(np.arange(len(losses[1])), losses[1], label=label[1])\n",
        "ax.plot(np.arange(len(losses[6])), losses[6], label=label[6])\n",
        "\n",
        "ax.set_xlabel('Epoch')\n",
        "ax.set_ylabel('Loss')\n",
        "ax.legend()\n",
        "plt.show()"
      ],
      "metadata": {
        "colab": {
          "base_uri": "https://localhost:8080/",
          "height": 449
        },
        "id": "wTibvujiyi4J",
        "outputId": "f51648c2-11f2-45cd-ae29-bc17e25fcd66"
      },
      "execution_count": null,
      "outputs": [
        {
          "output_type": "display_data",
          "data": {
            "text/plain": [
              "<Figure size 640x480 with 1 Axes>"
            ],
            "image/png": "[encoded data removed]"
          },
          "metadata": {}
        }
      ]
    },
    {
      "cell_type": "code",
      "source": [
        "import matplotlib.pyplot as plt\n",
        "import numpy as np\n",
        "fig, ax = plt.subplots()\n",
        "for i, loss in enumerate(losses):\n",
        "    if i != 6 or i != 1:\n",
        "      continue\n",
        "    ax.plot(np.arange(len(loss)), loss, label=label[i])\n",
        "\n",
        "ax.set_xlabel('Epoch')\n",
        "ax.set_ylabel('Loss')\n",
        "ax.legend()\n",
        "plt.show()"
      ],
      "metadata": {
        "id": "5u29O8dxpoVB"
      },
      "execution_count": null,
      "outputs": []
    },
    {
      "cell_type": "code",
      "source": [
        "import matplotlib.pyplot as plt\n",
        "\n",
        "plt.plot(np.arange(epoch), np.asarray(l))\n",
        "plt.title(\"Learning Curve\")\n",
        "plt.xlabel(\"Epoch\")\n",
        "plt.ylabel(\"Train Loss\")\n",
        "plt.show()"
      ],
      "metadata": {
        "colab": {
          "base_uri": "https://localhost:8080/",
          "height": 472
        },
        "id": "eOnwPt-fxxYv",
        "outputId": "e9354ed7-d144-4229-9ec3-975354636913"
      },
      "execution_count": null,
      "outputs": [
        {
          "output_type": "display_data",
          "data": {
            "text/plain": [
              "<Figure size 640x480 with 1 Axes>"
            ],
            "image/png": "[encoded data removed]"
          },
          "metadata": {}
        }
      ]
    },
    {
      "cell_type": "code",
      "execution_count": null,
      "metadata": {
        "colab": {
          "base_uri": "https://localhost:8080/"
        },
        "id": "JrvZ03LggK1J",
        "outputId": "c87be9b9-51ba-4442-e488-eab950e36ce1"
      },
      "outputs": [
        {
          "output_type": "stream",
          "name": "stdout",
          "text": [
            "AUC 0.6813916511358157\n"
          ]
        },
        {
          "output_type": "stream",
          "name": "stderr",
          "text": [
            "/usr/local/lib/python3.9/dist-packages/dgl/backend/pytorch/tensor.py:445: UserWarning: TypedStorage is deprecated. It will be removed in the future and UntypedStorage will be the only storage class. This should only matter to you if you are using storages directly.  To access UntypedStorage directly, use tensor.untyped_storage() instead of tensor.storage()\n",
            "  assert input.numel() == input.storage().size(), (\n"
          ]
        }
      ],
      "source": [
        "with torch.no_grad():\n",
        "    pos_score = pred(test_pos_g, h)\n",
        "    neg_score = pred(test_neg_g, h)\n",
        "    print('AUC', compute_auc(pos_score, neg_score))"
      ]
    },
    {
      "cell_type": "markdown",
      "source": [
        "## Predict top 10 connections"
      ],
      "metadata": {
        "id": "h3bjV5Qg7dTT"
      }
    },
    {
      "cell_type": "code",
      "source": [
        "p = pred(test_neg_g, h)"
      ],
      "metadata": {
        "id": "soxWs6QUxnEA"
      },
      "execution_count": null,
      "outputs": []
    },
    {
      "cell_type": "code",
      "source": [
        "# find the indices of the top 2 edges\n",
        "topk_indices = torch.topk(p, k=10).indices\n",
        "\n",
        "# get the nodes corresponding to the top 2 edges\n",
        "src_nodes = test_neg_g.nodes()[g.edges()[0][topk_indices]]\n",
        "dst_nodes = test_neg_g.nodes()[g.edges()[1][topk_indices]]\n",
        "\n",
        "print(\"Source nodes of top-k edges: \", src_nodes)\n",
        "print(\"Destination nodes of top-k edges: \", dst_nodes)"
      ],
      "metadata": {
        "colab": {
          "base_uri": "https://localhost:8080/"
        },
        "id": "u317u6k10vvk",
        "outputId": "7f2701ad-f2a0-494e-99f7-76d4c8a81cc5"
      },
      "execution_count": null,
      "outputs": [
        {
          "output_type": "stream",
          "name": "stdout",
          "text": [
            "Source nodes of top-k edges:  tensor([5, 1, 2, 4, 3, 7, 3, 6, 8, 9])\n",
            "Destination nodes of top-k edges:  tensor([11, 15, 17, 18, 22, 18, 24, 22, 10, 60])\n"
          ]
        }
      ]
    },
    {
      "cell_type": "code",
      "source": [
        "src = src_nodes.cpu().numpy()\n",
        "dst = dst_nodes.cpu().numpy()\n",
        "s, d = test_neg_u[src], test_neg_v[dst]\n",
        "print('top 10 connections')\n",
        "for i in range(10):\n",
        "  u = name_vec[s[i]][1]\n",
        "  v = name_vec[d[i]][1]\n",
        "  print(u, v)"
      ],
      "metadata": {
        "colab": {
          "base_uri": "https://localhost:8080/"
        },
        "id": "qm8fXOPg6MeT",
        "outputId": "738a2d12-c838-4e22-e1ed-54dab787ee0a"
      },
      "execution_count": null,
      "outputs": [
        {
          "output_type": "stream",
          "name": "stdout",
          "text": [
            "top 10 connections\n",
            "#rashford #wildcats\n",
            "#retouch #designerbrasileiro\n",
            "#socceredit #london\n",
            "#premierleague #sportsdesign\n",
            "#kstate #rashford\n",
            "#photoshop #sportsdesign\n",
            "#kstate #gauchao\n",
            "#oldtrafford #rashford\n",
            "#footballgraphic #eliteeight\n",
            "#footyheadlines #HomeDecor\n"
          ]
        }
      ]
    }
  ],
  "metadata": {
    "kernelspec": {
      "display_name": "base",
      "language": "python",
      "name": "python3"
    },
    "language_info": {
      "codemirror_mode": {
        "name": "ipython",
        "version": 3
      },
      "file_extension": ".py",
      "mimetype": "text/x-python",
      "name": "python",
      "nbconvert_exporter": "python",
      "pygments_lexer": "ipython3",
      "version": "3.8.5"
    },
    "orig_nbformat": 4,
    "colab": {
      "provenance": [],
      "toc_visible": true
    },
    "accelerator": "GPU",
    "gpuClass": "standard"
  },
  "nbformat": 4,
  "nbformat_minor": 0
}