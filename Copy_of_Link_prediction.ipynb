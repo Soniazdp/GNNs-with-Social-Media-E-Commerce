{
  "cells": [
    {
      "cell_type": "code",
      "execution_count": 43,
      "metadata": {
        "colab": {
          "base_uri": "https://localhost:8080/"
        },
        "id": "x2BZ6fTUCxz9",
        "outputId": "afed766c-6907-4f09-829a-3f27e31bbe2e"
      },
      "outputs": [],
      "source": [
        "import os\n",
        "import torch\n",
        "os.environ['TORCH'] = torch.__version__\n",
        "import torch_geometric\n",
        "\n",
        "## Install required packages.\n",
        "# %pip install -q torch-scatter\n",
        "# %pip install -q torch-sparse\n",
        "# %pip install torch-geometric"
      ]
    },
    {
      "cell_type": "code",
      "execution_count": 44,
      "metadata": {
        "id": "-Rn-IXMkCx0E"
      },
      "outputs": [],
      "source": [
        "from sklearn.metrics import roc_auc_score\n",
        "\n",
        "import torch_geometric.transforms as T\n",
        "from torch_geometric.datasets import Planetoid\n",
        "from torch_geometric.nn import GCNConv\n",
        "from torch_geometric.utils import negative_sampling\n",
        "\n",
        "device = torch.device('cuda' if torch.cuda.is_available() else 'cpu')"
      ]
    },
    {
      "cell_type": "markdown",
      "metadata": {
        "id": "4mG6BWWbCx0G"
      },
      "source": [
        "## Graph autoencoder for link prediction\n",
        "\n",
        "\n",
        "Reference: [code](https://github.com/rusty1s/pytorch_geometric/blob/master/examples/link_pred.py)\n"
      ]
    },
    {
      "cell_type": "markdown",
      "metadata": {},
      "source": []
    },
    {
      "cell_type": "code",
      "execution_count": 45,
      "metadata": {},
      "outputs": [],
      "source": [
        "# input example\n",
        "import torch\n",
        "from torch_geometric.data import Data\n",
        "\n",
        "users = ['user1', 'user2', 'user3', 'user4', 'user5', 'user6']\n",
        "hashtags = ['#food', '#travel', '#fashion', '#fitness', '#nature', '#art', '#music']\n",
        "\n",
        "user_nodes = torch.tensor([0, 1, 2, 3, 4, 5], dtype=torch.long) # user node indices\n",
        "hashtag_nodes = torch.tensor([6, 7, 8, 9, 10, 11, 12], dtype=torch.long) # hashtag node indices\n",
        "\n",
        "x = torch.zeros((len(users) + len(hashtags), 1)) # initialize node features\n",
        "x[user_nodes, 0] = 1 # set user node features to 1\n",
        "x[hashtag_nodes, 0] = -1 # set hashtag node features to -1\n",
        "\n",
        "# The following edges are directed edges from users to hashtags using indices.\n",
        "# (e.g. the first edge is from user1 to #food, the second edge is from user2 to #travel, etc.)\n",
        "edges = torch.tensor([[0, 6], [0, 7], [1, 8], [2, 9], [2, 8], [3, 7], [4, 6], [5, 10], [5, 11], [5, 12]\n",
        "], dtype=torch.long) # edge index\n",
        "\n",
        "data = Data(x=x, edge_index=edges.t().contiguous()) # x has shape [13, 1], edge_index has shape [2, 10]"
      ]
    },
    {
      "cell_type": "code",
      "execution_count": 46,
      "metadata": {},
      "outputs": [
        {
          "name": "stdout",
          "output_type": "stream",
          "text": [
            "Data(x=[13, 1], edge_index=[2, 14], edge_label=[7], edge_label_index=[2, 7])\n",
            "Data(x=[13, 1], edge_index=[2, 14], edge_label=[2], edge_label_index=[2, 2])\n",
            "Data(x=[13, 1], edge_index=[2, 16], edge_label=[4], edge_label_index=[2, 4])\n"
          ]
        }
      ],
      "source": [
        "# load data\n",
        "from torch_geometric.transforms import RandomLinkSplit\n",
        "\n",
        "transform = T.Compose([T.ToDevice(device), RandomLinkSplit(num_val=0.1, num_test=0.2, is_undirected=True, add_negative_train_samples=False)])\n",
        "train_data, val_data, test_data = transform(data)\n",
        "\n",
        "print(train_data)\n",
        "print(val_data)\n",
        "print(test_data)"
      ]
    },
    {
      "cell_type": "markdown",
      "metadata": {
        "id": "TGfOg4KDCx0O"
      },
      "source": [
        "#### Simple autoencoder model\n",
        "![GraphAutoencoder.png](data:image/png;base64,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)\n",
        "\n",
        "Encoder(Inference): Two layer Graph convolutional layer\n",
        "\n",
        "Decoder(Generative): Pair-wise inner product of node imbeddings\n",
        "\n",
        "[BCEWithLogitsLoss](https://pytorch.org/docs/stable/generated/torch.nn.BCEWithLogitsLoss.html): This loss combines a Sigmoid layer and the Binary Cross Entropy. "
      ]
    },
    {
      "cell_type": "code",
      "execution_count": 49,
      "metadata": {
        "id": "UP2GNPFNCx0Q"
      },
      "outputs": [],
      "source": [
        "class Net(torch.nn.Module):\n",
        "    def __init__(self, in_channels, hidden_channels, out_channels):\n",
        "        super().__init__()\n",
        "        self.conv1 = GCNConv(in_channels, hidden_channels)\n",
        "        self.conv2 = GCNConv(hidden_channels, out_channels)\n",
        "\n",
        "    def encode(self, x, edge_index):\n",
        "        x = self.conv1(x, edge_index).relu()\n",
        "        x = self.conv2(x, edge_index)\n",
        "        return x\n",
        "\n",
        "    def decode(self, z, edge_label_index):\n",
        "        return (z[edge_label_index[0]] * z[edge_label_index[1]]).sum(dim=-1)\n",
        "\n",
        "    def decode_all(self, z):\n",
        "        prob_adj = z @ z.t()\n",
        "        #return the indices of a non-zero element\n",
        "        return (prob_adj > 0).nonzero(as_tuple=False).t()"
      ]
    },
    {
      "cell_type": "code",
      "execution_count": 50,
      "metadata": {
        "id": "aShuz2QKCx0S"
      },
      "outputs": [],
      "source": [
        "num_features = data.x.shape[1]\n",
        "model = Net(num_features, 128, 64).to(device)\n",
        "optimizer = torch.optim.Adam(params=model.parameters(), lr=0.01)\n",
        "criterion = torch.nn.BCEWithLogitsLoss()"
      ]
    },
    {
      "cell_type": "markdown",
      "metadata": {
        "id": "XFD_h5yNS2Pc"
      },
      "source": [
        "#### Model Training\n",
        "Training with new negative samples for each training epoch\n",
        "\n",
        "Validation/Test evaluation with roc_auc_score (Area Under the Receiver Operating Characteristic Curve)"
      ]
    },
    {
      "cell_type": "code",
      "execution_count": 65,
      "metadata": {
        "id": "h_7cZ5DLCx0T"
      },
      "outputs": [],
      "source": [
        "def train(EPOCHS = 100):\n",
        "    optimizer.zero_grad()\n",
        "    z = model.encode(train_data.x, train_data.edge_index)\n",
        "\n",
        "    # We perform a new round of negative sampling for every training epoch:\n",
        "    neg_edge_index = negative_sampling(\n",
        "        edge_index=train_data.edge_index, num_nodes=train_data.num_nodes,\n",
        "        num_neg_samples=train_data.edge_index.size(1))\n",
        "        # num_neg_samples=train_data.edge_label_index.size(1))\n",
        "\n",
        "    edge_label_index = torch.cat(\n",
        "        [train_data.edge_index, neg_edge_index],\n",
        "        # [train_data.edge_label_index, neg_edge_index],\n",
        "        dim=-1,\n",
        "    )\n",
        "    \n",
        "    train_edge_label = torch.ones(train_data.edge_index.size(1))\n",
        "    edge_label = torch.cat([\n",
        "        # train_data.edge_label,\n",
        "        # train_data.edge_label.new_zeros(neg_edge_index.size(1))\n",
        "        train_edge_label,\n",
        "        train_edge_label.new_zeros(neg_edge_index.size(1))\n",
        "    ], dim=0)\n",
        "    \n",
        "    best_val_auc = 0\n",
        "    for epoch in range(EPOCHS):\n",
        "        # training\n",
        "        model.train()\n",
        "        optimizer.zero_grad()\n",
        "        out = model.decode(z, train_data.edge_index).view(-1)\n",
        "        # out = model.decode(z, edge_label_index).view(-1)\n",
        "        loss = criterion(out, edge_label)\n",
        "        loss.backward()\n",
        "        optimizer.step()\n",
        "        \n",
        "        # validation\n",
        "        with torch.no_grad():\n",
        "            model.eval()\n",
        "            # z = model.encode(data.x, data.edge_index)\n",
        "            # out = model.decode(z, data.edge_label_index).view(-1).sigmoid()\n",
        "            out = model.decode(z, data.edge_index).view(-1).sigmoid()\n",
        "            val_edge_label = torch.ones(val_data.edge_index.size(1))\n",
        "            val_auc = roc_auc_score(val_edge_label.cpu().numpy(), out.cpu().numpy())\n",
        "            # val_auc = roc_auc_score(data.edge_label.cpu().numpy(), out.cpu().numpy())\n",
        "            if val_auc > best_val_auc:\n",
        "                best_val_auc = val_auc\n",
        "                best_model = model.state_dict()\n",
        "            print(f'Epoch: {epoch:03d}, Loss: {loss:.4f}, Val AUC: {val_auc:.4f}')\n",
        "            \n",
        "    # testing\n",
        "    with torch.no_grad():\n",
        "        model.load_state_dict(best_model)\n",
        "        model.eval()\n",
        "        z = model.encode(data.x, data.edge_index)\n",
        "        out = model.decode(z, data.edge_index).view(-1).sigmoid()\n",
        "        # out = model.decode(z, data.edge_label_index).view(-1).sigmoid()\n",
        "        # test_auc = roc_auc_score(data.edge_label.cpu().numpy(), out.cpu().numpy())\n",
        "        test_edge_label = torch.ones(test_data.edge_index.size(1))\n",
        "        test_auc = roc_auc_score(test_edge_label.cpu().numpy(), out.cpu().numpy())\n",
        "        print(f'Test AUC: {test_auc:.4f}')\n",
        "\n",
        "# @torch.no_grad()\n",
        "# def test(data):\n",
        "#     model.eval()\n",
        "#     z = model.encode(data.x, data.edge_index)\n",
        "#     out = model.decode(z, data.edge_label_index).view(-1).sigmoid()\n",
        "#     return roc_auc_score(data.edge_label.cpu().numpy(), out.cpu().numpy())"
      ]
    },
    {
      "cell_type": "code",
      "execution_count": 66,
      "metadata": {
        "colab": {
          "base_uri": "https://localhost:8080/"
        },
        "id": "kTrAei10Cx0V",
        "outputId": "392fd81c-5418-4c34-a6fd-dfcc632f82a6"
      },
      "outputs": [
        {
          "ename": "ValueError",
          "evalue": "Target size (torch.Size([28])) must be the same as input size (torch.Size([14]))",
          "output_type": "error",
          "traceback": [
            "\u001b[0;31m---------------------------------------------------------------------------\u001b[0m",
            "\u001b[0;31mValueError\u001b[0m                                Traceback (most recent call last)",
            "\u001b[0;32m<ipython-input-66-cdec1c0f5e9b>\u001b[0m in \u001b[0;36m<module>\u001b[0;34m\u001b[0m\n\u001b[1;32m     12\u001b[0m \u001b[0;31m# print(f'Final Test: {final_test_auc:.4f}')\u001b[0m\u001b[0;34m\u001b[0m\u001b[0;34m\u001b[0m\u001b[0;34m\u001b[0m\u001b[0m\n\u001b[1;32m     13\u001b[0m \u001b[0;34m\u001b[0m\u001b[0m\n\u001b[0;32m---> 14\u001b[0;31m \u001b[0mtrain\u001b[0m\u001b[0;34m(\u001b[0m\u001b[0;34m)\u001b[0m\u001b[0;34m\u001b[0m\u001b[0;34m\u001b[0m\u001b[0m\n\u001b[0m",
            "\u001b[0;32m<ipython-input-65-99efbd9c2920>\u001b[0m in \u001b[0;36mtrain\u001b[0;34m(EPOCHS)\u001b[0m\n\u001b[1;32m     30\u001b[0m         \u001b[0mout\u001b[0m \u001b[0;34m=\u001b[0m \u001b[0mmodel\u001b[0m\u001b[0;34m.\u001b[0m\u001b[0mdecode\u001b[0m\u001b[0;34m(\u001b[0m\u001b[0mz\u001b[0m\u001b[0;34m,\u001b[0m \u001b[0mtrain_data\u001b[0m\u001b[0;34m.\u001b[0m\u001b[0medge_index\u001b[0m\u001b[0;34m)\u001b[0m\u001b[0;34m.\u001b[0m\u001b[0mview\u001b[0m\u001b[0;34m(\u001b[0m\u001b[0;34m-\u001b[0m\u001b[0;36m1\u001b[0m\u001b[0;34m)\u001b[0m\u001b[0;34m\u001b[0m\u001b[0;34m\u001b[0m\u001b[0m\n\u001b[1;32m     31\u001b[0m         \u001b[0;31m# out = model.decode(z, edge_label_index).view(-1)\u001b[0m\u001b[0;34m\u001b[0m\u001b[0;34m\u001b[0m\u001b[0;34m\u001b[0m\u001b[0m\n\u001b[0;32m---> 32\u001b[0;31m         \u001b[0mloss\u001b[0m \u001b[0;34m=\u001b[0m \u001b[0mcriterion\u001b[0m\u001b[0;34m(\u001b[0m\u001b[0mout\u001b[0m\u001b[0;34m,\u001b[0m \u001b[0medge_label\u001b[0m\u001b[0;34m)\u001b[0m\u001b[0;34m\u001b[0m\u001b[0;34m\u001b[0m\u001b[0m\n\u001b[0m\u001b[1;32m     33\u001b[0m         \u001b[0mloss\u001b[0m\u001b[0;34m.\u001b[0m\u001b[0mbackward\u001b[0m\u001b[0;34m(\u001b[0m\u001b[0;34m)\u001b[0m\u001b[0;34m\u001b[0m\u001b[0;34m\u001b[0m\u001b[0m\n\u001b[1;32m     34\u001b[0m         \u001b[0moptimizer\u001b[0m\u001b[0;34m.\u001b[0m\u001b[0mstep\u001b[0m\u001b[0;34m(\u001b[0m\u001b[0;34m)\u001b[0m\u001b[0;34m\u001b[0m\u001b[0;34m\u001b[0m\u001b[0m\n",
            "\u001b[0;32m~/opt/anaconda3/lib/python3.8/site-packages/torch/nn/modules/module.py\u001b[0m in \u001b[0;36m_call_impl\u001b[0;34m(self, *input, **kwargs)\u001b[0m\n\u001b[1;32m   1108\u001b[0m         if not (self._backward_hooks or self._forward_hooks or self._forward_pre_hooks or _global_backward_hooks\n\u001b[1;32m   1109\u001b[0m                 or _global_forward_hooks or _global_forward_pre_hooks):\n\u001b[0;32m-> 1110\u001b[0;31m             \u001b[0;32mreturn\u001b[0m \u001b[0mforward_call\u001b[0m\u001b[0;34m(\u001b[0m\u001b[0;34m*\u001b[0m\u001b[0minput\u001b[0m\u001b[0;34m,\u001b[0m \u001b[0;34m**\u001b[0m\u001b[0mkwargs\u001b[0m\u001b[0;34m)\u001b[0m\u001b[0;34m\u001b[0m\u001b[0;34m\u001b[0m\u001b[0m\n\u001b[0m\u001b[1;32m   1111\u001b[0m         \u001b[0;31m# Do not call functions when jit is used\u001b[0m\u001b[0;34m\u001b[0m\u001b[0;34m\u001b[0m\u001b[0;34m\u001b[0m\u001b[0m\n\u001b[1;32m   1112\u001b[0m         \u001b[0mfull_backward_hooks\u001b[0m\u001b[0;34m,\u001b[0m \u001b[0mnon_full_backward_hooks\u001b[0m \u001b[0;34m=\u001b[0m \u001b[0;34m[\u001b[0m\u001b[0;34m]\u001b[0m\u001b[0;34m,\u001b[0m \u001b[0;34m[\u001b[0m\u001b[0;34m]\u001b[0m\u001b[0;34m\u001b[0m\u001b[0;34m\u001b[0m\u001b[0m\n",
            "\u001b[0;32m~/opt/anaconda3/lib/python3.8/site-packages/torch/nn/modules/loss.py\u001b[0m in \u001b[0;36mforward\u001b[0;34m(self, input, target)\u001b[0m\n\u001b[1;32m    711\u001b[0m \u001b[0;34m\u001b[0m\u001b[0m\n\u001b[1;32m    712\u001b[0m     \u001b[0;32mdef\u001b[0m \u001b[0mforward\u001b[0m\u001b[0;34m(\u001b[0m\u001b[0mself\u001b[0m\u001b[0;34m,\u001b[0m \u001b[0minput\u001b[0m\u001b[0;34m:\u001b[0m \u001b[0mTensor\u001b[0m\u001b[0;34m,\u001b[0m \u001b[0mtarget\u001b[0m\u001b[0;34m:\u001b[0m \u001b[0mTensor\u001b[0m\u001b[0;34m)\u001b[0m \u001b[0;34m->\u001b[0m \u001b[0mTensor\u001b[0m\u001b[0;34m:\u001b[0m\u001b[0;34m\u001b[0m\u001b[0;34m\u001b[0m\u001b[0m\n\u001b[0;32m--> 713\u001b[0;31m         return F.binary_cross_entropy_with_logits(input, target,\n\u001b[0m\u001b[1;32m    714\u001b[0m                                                   \u001b[0mself\u001b[0m\u001b[0;34m.\u001b[0m\u001b[0mweight\u001b[0m\u001b[0;34m,\u001b[0m\u001b[0;34m\u001b[0m\u001b[0;34m\u001b[0m\u001b[0m\n\u001b[1;32m    715\u001b[0m                                                   \u001b[0mpos_weight\u001b[0m\u001b[0;34m=\u001b[0m\u001b[0mself\u001b[0m\u001b[0;34m.\u001b[0m\u001b[0mpos_weight\u001b[0m\u001b[0;34m,\u001b[0m\u001b[0;34m\u001b[0m\u001b[0;34m\u001b[0m\u001b[0m\n",
            "\u001b[0;32m~/opt/anaconda3/lib/python3.8/site-packages/torch/nn/functional.py\u001b[0m in \u001b[0;36mbinary_cross_entropy_with_logits\u001b[0;34m(input, target, weight, size_average, reduce, reduction, pos_weight)\u001b[0m\n\u001b[1;32m   3128\u001b[0m \u001b[0;34m\u001b[0m\u001b[0m\n\u001b[1;32m   3129\u001b[0m     \u001b[0;32mif\u001b[0m \u001b[0;32mnot\u001b[0m \u001b[0;34m(\u001b[0m\u001b[0mtarget\u001b[0m\u001b[0;34m.\u001b[0m\u001b[0msize\u001b[0m\u001b[0;34m(\u001b[0m\u001b[0;34m)\u001b[0m \u001b[0;34m==\u001b[0m \u001b[0minput\u001b[0m\u001b[0;34m.\u001b[0m\u001b[0msize\u001b[0m\u001b[0;34m(\u001b[0m\u001b[0;34m)\u001b[0m\u001b[0;34m)\u001b[0m\u001b[0;34m:\u001b[0m\u001b[0;34m\u001b[0m\u001b[0;34m\u001b[0m\u001b[0m\n\u001b[0;32m-> 3130\u001b[0;31m         \u001b[0;32mraise\u001b[0m \u001b[0mValueError\u001b[0m\u001b[0;34m(\u001b[0m\u001b[0;34m\"Target size ({}) must be the same as input size ({})\"\u001b[0m\u001b[0;34m.\u001b[0m\u001b[0mformat\u001b[0m\u001b[0;34m(\u001b[0m\u001b[0mtarget\u001b[0m\u001b[0;34m.\u001b[0m\u001b[0msize\u001b[0m\u001b[0;34m(\u001b[0m\u001b[0;34m)\u001b[0m\u001b[0;34m,\u001b[0m \u001b[0minput\u001b[0m\u001b[0;34m.\u001b[0m\u001b[0msize\u001b[0m\u001b[0;34m(\u001b[0m\u001b[0;34m)\u001b[0m\u001b[0;34m)\u001b[0m\u001b[0;34m)\u001b[0m\u001b[0;34m\u001b[0m\u001b[0;34m\u001b[0m\u001b[0m\n\u001b[0m\u001b[1;32m   3131\u001b[0m \u001b[0;34m\u001b[0m\u001b[0m\n\u001b[1;32m   3132\u001b[0m     \u001b[0;32mreturn\u001b[0m \u001b[0mtorch\u001b[0m\u001b[0;34m.\u001b[0m\u001b[0mbinary_cross_entropy_with_logits\u001b[0m\u001b[0;34m(\u001b[0m\u001b[0minput\u001b[0m\u001b[0;34m,\u001b[0m \u001b[0mtarget\u001b[0m\u001b[0;34m,\u001b[0m \u001b[0mweight\u001b[0m\u001b[0;34m,\u001b[0m \u001b[0mpos_weight\u001b[0m\u001b[0;34m,\u001b[0m \u001b[0mreduction_enum\u001b[0m\u001b[0;34m)\u001b[0m\u001b[0;34m\u001b[0m\u001b[0;34m\u001b[0m\u001b[0m\n",
            "\u001b[0;31mValueError\u001b[0m: Target size (torch.Size([28])) must be the same as input size (torch.Size([14]))"
          ]
        }
      ],
      "source": [
        "# best_val_auc = final_test_auc = 0\n",
        "# for epoch in range(1, 101):\n",
        "#     loss = train()\n",
        "#     val_auc = test(val_data)\n",
        "#     test_auc = test(test_data)\n",
        "#     if val_auc > best_val_auc:\n",
        "#         best_val = val_auc\n",
        "#         final_test_auc = test_auc\n",
        "#     print(f'Epoch: {epoch:03d}, Loss: {loss:.4f}, Val: {val_auc:.4f}, '\n",
        "#           f'Test: {test_auc:.4f}')\n",
        "\n",
        "# print(f'Final Test: {final_test_auc:.4f}')\n",
        "\n",
        "train()"
      ]
    },
    {
      "cell_type": "code",
      "execution_count": null,
      "metadata": {
        "id": "MQyu_6lSCx0W"
      },
      "outputs": [
        {
          "name": "stdout",
          "output_type": "stream",
          "text": [
            "tensor([[ 0,  0,  0,  0,  0,  0,  0,  0,  0,  0,  0,  1,  1,  2,  2,  2,  2,  2,\n",
            "          2,  2,  2,  2,  2,  2,  3,  3,  3,  3,  3,  3,  3,  3,  4,  4,  5,  5,\n",
            "          5,  5,  5,  5,  5,  5,  5,  5,  5,  6,  6,  6,  6,  6,  6,  6,  6,  6,\n",
            "          6,  6,  7,  7,  7,  7,  7,  7,  7,  7,  7,  7,  7,  8,  8,  8,  8,  8,\n",
            "          8,  8,  8,  8,  8,  8,  9,  9,  9,  9,  9,  9,  9,  9,  9,  9,  9, 10,\n",
            "         10, 10, 10, 10, 10, 10, 10, 10, 10, 11, 11, 11, 11, 11, 11, 11, 11, 11,\n",
            "         11, 12, 12, 12, 12, 12, 12, 12, 12, 12, 12],\n",
            "        [ 0,  2,  3,  5,  6,  7,  8,  9, 10, 11, 12,  1,  4,  0,  2,  3,  5,  6,\n",
            "          7,  8,  9, 10, 11, 12,  0,  2,  3,  5,  6,  7,  8,  9,  1,  4,  0,  2,\n",
            "          3,  5,  6,  7,  8,  9, 10, 11, 12,  0,  2,  3,  5,  6,  7,  8,  9, 10,\n",
            "         11, 12,  0,  2,  3,  5,  6,  7,  8,  9, 10, 11, 12,  0,  2,  3,  5,  6,\n",
            "          7,  8,  9, 10, 11, 12,  0,  2,  3,  5,  6,  7,  8,  9, 10, 11, 12,  0,\n",
            "          2,  5,  6,  7,  8,  9, 10, 11, 12,  0,  2,  5,  6,  7,  8,  9, 10, 11,\n",
            "         12,  0,  2,  5,  6,  7,  8,  9, 10, 11, 12]])\n"
          ]
        }
      ],
      "source": [
        "z = model.encode(test_data.x, test_data.edge_index)\n",
        "final_edge_index = model.decode_all(z)\n",
        "print(final_edge_index)"
      ]
    },
    {
      "cell_type": "code",
      "execution_count": null,
      "metadata": {
        "colab": {
          "base_uri": "https://localhost:8080/"
        },
        "id": "3K6yf1jvCx0X",
        "outputId": "af9308b4-e9c2-457f-fd45-76b155a0c52c"
      },
      "outputs": [
        {
          "ename": "RuntimeError",
          "evalue": "The size of tensor a (128) must match the size of tensor b (0) at non-singleton dimension 1",
          "output_type": "error",
          "traceback": [
            "\u001b[0;31m---------------------------------------------------------------------------\u001b[0m",
            "\u001b[0;31mRuntimeError\u001b[0m                              Traceback (most recent call last)",
            "\u001b[0;32m<ipython-input-40-aee70ae97707>\u001b[0m in \u001b[0;36m<module>\u001b[0;34m\u001b[0m\n\u001b[1;32m      4\u001b[0m \u001b[0;34m\u001b[0m\u001b[0m\n\u001b[1;32m      5\u001b[0m \u001b[0;31m# compute dot product between node embeddings\u001b[0m\u001b[0;34m\u001b[0m\u001b[0;34m\u001b[0m\u001b[0;34m\u001b[0m\u001b[0m\n\u001b[0;32m----> 6\u001b[0;31m \u001b[0mdot_product\u001b[0m \u001b[0;34m=\u001b[0m \u001b[0mtorch\u001b[0m\u001b[0;34m.\u001b[0m\u001b[0msum\u001b[0m\u001b[0;34m(\u001b[0m\u001b[0medge_embeddings\u001b[0m\u001b[0;34m[\u001b[0m\u001b[0;34m:\u001b[0m\u001b[0;34m,\u001b[0m \u001b[0;34m:\u001b[0m\u001b[0;36m128\u001b[0m\u001b[0;34m]\u001b[0m \u001b[0;34m*\u001b[0m \u001b[0medge_embeddings\u001b[0m\u001b[0;34m[\u001b[0m\u001b[0;34m:\u001b[0m\u001b[0;34m,\u001b[0m \u001b[0;36m128\u001b[0m\u001b[0;34m:\u001b[0m\u001b[0;34m]\u001b[0m\u001b[0;34m,\u001b[0m \u001b[0mdim\u001b[0m\u001b[0;34m=\u001b[0m\u001b[0;34m-\u001b[0m\u001b[0;36m1\u001b[0m\u001b[0;34m)\u001b[0m\u001b[0;34m\u001b[0m\u001b[0;34m\u001b[0m\u001b[0m\n\u001b[0m\u001b[1;32m      7\u001b[0m \u001b[0;34m\u001b[0m\u001b[0m\n\u001b[1;32m      8\u001b[0m \u001b[0;31m# pass dot product through sigmoid function\u001b[0m\u001b[0;34m\u001b[0m\u001b[0;34m\u001b[0m\u001b[0;34m\u001b[0m\u001b[0m\n",
            "\u001b[0;31mRuntimeError\u001b[0m: The size of tensor a (128) must match the size of tensor b (0) at non-singleton dimension 1"
          ]
        }
      ],
      "source": [
        "# extract embeddings of the two nodes participating in each edge\n",
        "node_embeddings = model.encode(test_data.x, test_data.edge_index)\n",
        "edge_embeddings = torch.cat((node_embeddings[final_edge_index[0]], node_embeddings[final_edge_index[1]]), dim=-1)\n",
        "\n",
        "# compute dot product between node embeddings\n",
        "dot_product = torch.sum(edge_embeddings[:, :128] * edge_embeddings[:, 128:], dim=-1)\n",
        "\n",
        "# pass dot product through sigmoid function\n",
        "probabilities = torch.sigmoid(dot_product)\n",
        "\n",
        "# threshold probabilities to classify links as present or absent\n",
        "predictions = (probabilities >= 0.5).long()\n"
      ]
    },
    {
      "cell_type": "code",
      "execution_count": null,
      "metadata": {
        "id": "HK6pJT8ZCx0X"
      },
      "outputs": [],
      "source": []
    }
  ],
  "metadata": {
    "accelerator": "GPU",
    "colab": {
      "provenance": []
    },
    "gpuClass": "standard",
    "kernelspec": {
      "display_name": "Python 3 (ipykernel)",
      "language": "python",
      "name": "python3"
    },
    "language_info": {
      "codemirror_mode": {
        "name": "ipython",
        "version": 3
      },
      "file_extension": ".py",
      "mimetype": "text/x-python",
      "name": "python",
      "nbconvert_exporter": "python",
      "pygments_lexer": "ipython3",
      "version": "3.8.5"
    }
  },
  "nbformat": 4,
  "nbformat_minor": 0
}
